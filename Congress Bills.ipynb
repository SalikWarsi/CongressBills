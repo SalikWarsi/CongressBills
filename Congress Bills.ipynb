{
 "cells": [
  {
   "cell_type": "markdown",
   "metadata": {},
   "source": [
    "# USA Congress Bills\n",
    "\n",
    "## Objective\n",
    "The objective of the project is to look at the data of all bills introduced in United States Congress (both House of Representatives and the Senate) since 1973. I will be analyzing how many bills are introduced and what happens to these bills, as in whether they are passed into becoming a law or rejected in some stage before that. The project also aims to tackle whether the recent news about gridlock in congress is true and whether this has led to a lower amount of bills being successfully passed as law over this time period. Similarly, I would also look at the composition of the congress and the cosponsors of the bills to see if that affects them.\n",
    "\n",
    "Through this Project I intend to give a mathematical idea to someone about what is the chance of bill they are interested in passing and getting enacted.\n",
    "\n",
    "## Analysis\n",
    "I would like to begin with the following questions:\n",
    "\n",
    "1. Has the number of bills introduced changed over the years?\n",
    "2. How many bills introduced pass while how many are stopped at each stage (e.g.: after referral, or vetoed by the president, or failed in the other chamber)? \n",
    "3. How is this affected by the composition of Both Chamber of Congress? I assume more bill would succeed if they are introduced by a member of a party that controls both chambers as well as the Presidentship\n",
    "4. The bills introduced in the Congress can be different types: Bills, Simple Resolutions, Joint Resolutions and Concurrent Resolutions. I will be examining the difference in the way these bills are passed and how that affects their rate of success?\n",
    "5. Has the success rate of bills changed over the years, perhaps indication a greater gridlock in Congress as often reported?\n",
    "6. Does the chances of the success of a bill change with having more cosponsors? \n",
    "7. I will try to develop a measure of bipartisanship looking at sponsors and cosponsors and try answering if bipartisanship has decreased in Congress over time?\n",
    "8. Does a bipartisan bill have a higher chance of success?\n",
    "9. What are the differences in the behavior of the House of Representative and the Senate for the above questions.\n",
    "\n",
    "## Data Sources\n",
    "My primary data Source will be ProPublica's data of all the bills introduced in Congress in each session: https://www.propublica.org/datastore/dataset/congressional-data-bulk-legislation-bills \n",
    "\n",
    "This data is Licensed under Probublica's [Terms of Use](https://www.propublica.org/datastore/terms) . However, I have mailed them and confirmed that I am allowed to republish their data.\n",
    "\n",
    "ProPublica have obtained this data from United States Github account (https://github.com/unitedstates) . As explained in https://github.com/unitedstates/congress/wiki/bills we only have data about all bills from 1973 onwards, as before that, the API only provides the data for bills that were enacted successfully. Also, there is a schema change from 2013 onwards which I will handle in my code.\n",
    "\n",
    "Apart from this I will be using data from https://github.com/unitedstates/congress-legislators , specifically :\n",
    "1. [Current legislators](https://theunitedstates.io/congress-legislators/legislators-current.csv)\n",
    "2. [Historic legislators](https://theunitedstates.io/congress-legislators/legislators-historical.csv)\n",
    "\n",
    "to find names and Political affiliation of the Legislators.\n",
    "\n",
    "All data from [@unitedstates](https://github.com/unitedstates) is Public Domain.\n",
    "\n",
    "I will have a copy of the data in this repository, so future researchers can use that directly.\n",
    "\n",
    "## Methodology\n",
    "\n",
    "I will be using a logistic regression to estimate the chances of a bill passing the chamber. At the same time I will also also be doing a linear regression to compare the size of majority and the chances of bill passing for a member of the majority.  \n",
    "\n",
    "## Issues\n",
    "There are possible issues with my data. I would like to begin by saying that I will try to keep my personal bias out as much as possible. Also, it’s possible I might have a bug in my analysis. However, to ensure complete transparency my code will be available online completely to ensure reproducibility.\n",
    "\n",
    "Also, this analysis does not state whether it’s good for a congress to pass more bills or less and is just an attempt to visualize what happens to bills when they are introduced.\n",
    "\n",
    "Finally, by considering each bill as equal, I am making huge (and wrong) assumption. Some bills such as changing Health Care Law have far more reaching effects than another possibly just changing the name of a park. However, as an initial analysis, I am keeping each bill as an individual bill. Furthermore, some bills are related and identical. I will analyze what's the frequency of this and might try to combine these separate bills into 1.\n",
    "\n",
    "Also, a resolution is not the same as a bill, as it doesn't directly become law. Therefore, it might be easier to pass. However, to prevent this from poisoning my data, I will analyze them separately.\n",
    "\n",
    "## Future Research\n",
    "The data about bills introduced in congress is a treasure trove. Some of the possible future research that we can do:\n",
    "1. Do different committees have different procedures and if so does that lead to difference is probability of success of the bill?\n",
    "2. How likely is it for women to Sponsor/ Cosponsor bills? Do these bills have a similar chance of success? This is especially important considering the low proportion of women in the Congress both currently and historically. The US GitHub does contain data for gender for the Legislators. \n",
    "3. Using the Wikipedia data for each Legislator, provided in US GitHub account, we could try obtaining more information and see how that affects their bills. For example, are legislators elected with a larger majority more likely to introduce more bills?\n",
    "\n",
    "## License\n",
    "My research would be released under an MIT License and public domain.\n"
   ]
  },
  {
   "cell_type": "code",
   "execution_count": null,
   "metadata": {
    "collapsed": true
   },
   "outputs": [],
   "source": []
  }
 ],
 "metadata": {
  "kernelspec": {
   "display_name": "Python 3",
   "language": "python",
   "name": "python3"
  },
  "language_info": {
   "codemirror_mode": {
    "name": "ipython",
    "version": 3
   },
   "file_extension": ".py",
   "mimetype": "text/x-python",
   "name": "python",
   "nbconvert_exporter": "python",
   "pygments_lexer": "ipython3",
   "version": "3.5.3"
  }
 },
 "nbformat": 4,
 "nbformat_minor": 2
}
