{
 "cells": [
  {
   "cell_type": "markdown",
   "metadata": {},
   "source": [
    "# USA Congress Bills\n",
    "\n",
    "## Objective\n",
    "The objective of the project is to look at the data of all bills introduced in United States Congress (both House of Representatives and the Senate) since 1973. I will be analyzing how many bills are introduced and what happens to these bills, as in whether they are passed into becoming a law or rejected in some stage before that. The project also aims to tackle whether the recent news about gridlock in congress is true and whether this has led to a lower amount of bills being successfully passed as law over this time period. Similarly I would also look at the composition of the congress and the cosponsors of the bills to see if that affects them\n",
    "\n",
    "## Analysis\n",
    "I would like to begin with the following questions:\n",
    "\n",
    "1. Has the number of bills introduced changed over the years?\n",
    "2. How many bills introduced pass while how many are stopped at each stage (e.g.: after referral, or vetoed by the president, or failed in the other chamber)? \n",
    "3. How is this affected by the composition of Both Chamber of Congress? I assume more bill would succeed if they are introduced by a member of a party that controls both chambers as well as the Presidentship\n",
    "4. The bills introduced in the Congress can be different types: Bills, Simple Resolutions, Joint Resolutions and Concurrent Resolutions. I will be examining the difference in the way these bills are passed and how that affects their rate of success?\n",
    "5. Has the success rate of bills changed over the years, perhaps indication a greater gridlock in Congress as often reported?\n",
    "6. Does the chances of the success of a bill change with having more cosponsors? \n",
    "7. I will try to develop a measure of bipartisanship looking at sponsors and cosponsors and try answering if bipartisanship has decreased in Congress over time?\n",
    "8. Does a bipartisan bill have a higher chance of success?\n",
    "\n",
    "## Data Sources\n",
    "My primary data Source will be ProPublica's data of all "
   ]
  },
  {
   "cell_type": "code",
   "execution_count": null,
   "metadata": {
    "collapsed": true
   },
   "outputs": [],
   "source": []
  }
 ],
 "metadata": {
  "kernelspec": {
   "display_name": "Python 3",
   "language": "python",
   "name": "python3"
  },
  "language_info": {
   "codemirror_mode": {
    "name": "ipython",
    "version": 3
   },
   "file_extension": ".py",
   "mimetype": "text/x-python",
   "name": "python",
   "nbconvert_exporter": "python",
   "pygments_lexer": "ipython3",
   "version": "3.5.3"
  }
 },
 "nbformat": 4,
 "nbformat_minor": 2
}
